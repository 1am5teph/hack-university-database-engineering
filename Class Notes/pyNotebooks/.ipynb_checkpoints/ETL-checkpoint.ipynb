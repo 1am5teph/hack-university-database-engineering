{
 "cells": [
  {
   "cell_type": "markdown",
   "metadata": {},
   "source": [
    "# ETL\n",
    "\n",
    "\n",
    "## Overview\n",
    "\n",
    "- What is it?\n",
    "- Types of ETL\n",
    "  -  Batch\n",
    "  -  Realtime\n",
    "\n",
    "\n",
    "## What is it?\n",
    "\n",
    "The bright future of decision making has been, and still is making decisions using data; not solely trusting human intuition.\n",
    "Analysts, scientists and statisticians have a problem, though. They want to understand data: but data is almost always inconsistent,\n",
    "corrupted, missing, or just plain invalid.\n",
    "\n",
    "That's because people are involved in data collection most of the time.\n",
    "\n",
    "However, as we hear over and over again: \n",
    "\n",
    "- \"You can have data without information, but you cannot have information without data.\" - Daniel Keys Moran\n",
    "\n",
    "The job of an Extraction Transformation and Loading (ETL) system is to try and homogenize those data into a consistent\n",
    "format so the data can be compared.\n",
    "\n",
    "It's much like a body's digestive system. It digests information into its constituent parts, orders what it can for use and \n",
    "discards the rest. As data engineers, you're the plumbers for your organization's GI tracts.\n",
    "\n",
    "### You're already practiced\n",
    "\n",
    "Already you know something about ETL. Even in your first classes you were loading data into the database using the `COPY FROM CSV` command.\n",
    "\n",
    "You were doing ETL there! Admittedly it was a very simple workflow -- most of the work was being doing in the database, but ETL is a continuum.\n",
    "\n",
    "\n",
    "### Extraction\n",
    "\n",
    "This is where we take information in one format and pull out the bits that are useful to our purpose.\n",
    "\n",
    "e.g. Pulling certain attributes out of a JSON object result from an API call.\n",
    "\n",
    "### Transformation\n",
    "\n",
    "Taking those extracted data, and putting them into whatever format we desire, correcting incorrect values where possible, possibly annotating related\n",
    "information into the same destination format.\n",
    "\n",
    "e.g. Putting the selected JSON attributes into a Protobuffer, adding identifier annotations to data in other systems.\n",
    "\n",
    "\n",
    "#### Loading\n",
    "\n",
    "Putting your data into a database for later analysis.\n",
    "\n",
    "e.g. psql -c \\COPY your_table FROM 'your_file.csv' CSV\n",
    "\n",
    "\n",
    "## Types of ETL\n",
    "\n",
    "### Batch\n",
    "\n",
    "This is in many ways the simplest way to construct a system, and how many of the highest performance ETL systems organize their work.\n",
    "\n",
    "One downside is that up-to-date information is only available after each batch is run.\n",
    "\n",
    "### Realtime\n",
    "\n",
    "This system means that you continuously update your database(s) as new information comes into your system. It's a good choice\n",
    "when the requirement is that your system's information must be close to real-time.\n",
    "\n",
    "One downside is that this is a more difficult system to scale as your data size and frequency increase.\n"
   ]
  },
  {
   "cell_type": "code",
   "execution_count": 30,
   "metadata": {
    "collapsed": false
   },
   "outputs": [],
   "source": [
    "### Imports\n",
    "\n",
    "import collections\n",
    "import random\n",
    "\n",
    "import numpy as np\n",
    "\n",
    "from functools import wraps"
   ]
  },
  {
   "cell_type": "code",
   "execution_count": 31,
   "metadata": {
    "collapsed": true
   },
   "outputs": [],
   "source": [
    "### Data Vars\n",
    "\n",
    "columns_headers = []\n",
    "num_rows = 10\n"
   ]
  },
  {
   "cell_type": "code",
   "execution_count": 87,
   "metadata": {
    "collapsed": false
   },
   "outputs": [],
   "source": [
    "### Decorators\n",
    "\n",
    "def destroy_percent(percent, value):\n",
    "    \"\"\"Will corrupt, destoy or mangle a percentage of whatever data your wrapped function returns.\"\"\"\n",
    "    def decorator(func):\n",
    "        @wraps(func)\n",
    "        def _wrapped(*args, **kwargs):\n",
    "            ret_val = func(*args, **kwargs)\n",
    "            if isinstance(ret_val, collections.Iterable):\n",
    "                changed_values = {}\n",
    "                for idx, item in enumerate(ret_val):\n",
    "                    if random.randint(0, 100) < percent:\n",
    "                        changed_values[idx] = item\n",
    "                        \n",
    "                for change_idx, item in changed_values.items():\n",
    "                    if callable (value):\n",
    "                        ret_val[change_idx] = value(item)\n",
    "                    else:\n",
    "                        ret_val[change_idx] = value\n",
    "                    \n",
    "                return ret_val\n",
    "                        \n",
    "            # if we're a regular scalar, just replace our return value a random percent of the time.\n",
    "            if (random.randint(0, 100) < percent):\n",
    "                if callable(value):\n",
    "                    return value(ret_val)\n",
    "                return value\n",
    "            else:\n",
    "                return ret_val\n",
    "            \n",
    "        return _wrapped \n",
    "\n",
    "    return decorator"
   ]
  },
  {
   "cell_type": "code",
   "execution_count": 88,
   "metadata": {
    "collapsed": true
   },
   "outputs": [],
   "source": [
    "### Finite Data\n",
    "states = ['OR', 'WA', 'CA', 'ID']\n",
    "state_initial_pops = {state : random.randint(10, 400) for state in states}\n",
    "BAD_CONTINUOUS_DATA_VALUES = [-1, None, 0, 45.3]\n",
    "\n",
    "def bad_data(*args, **kwargs):\n",
    "    return random.choice(BAD_CONTINUOUS_DATA_VALUES)"
   ]
  },
  {
   "cell_type": "code",
   "execution_count": 89,
   "metadata": {
    "collapsed": false
   },
   "outputs": [],
   "source": [
    "### Continuous Data\n",
    "\n",
    "def get_population(mean, sigma, num_years):\n",
    "    return np.random.normal(mean, sigma, num_years)\n",
    "\n",
    "@destroy_percent(30, None)\n",
    "def get_pop_30_nan(current, sigma, num_years):\n",
    "    return get_population(current, sigma, num_years)\n",
    "\n",
    "@destroy_percent(50, bad_data)\n",
    "def get_pop_50_bad(current, sigma, num_years):\n",
    "    return get_population(current, sigma, num_years)\n",
    "\n",
    "def get_average_annual_income(current, sigma, num_years):\n",
    "    return np.random.normal(current, sigma, num_years)\n",
    "\n",
    "@destroy_percent(2, bad_data)\n",
    "def get_monthly_income(current, sigma, num_years):\n",
    "    return get_average_annual_income(current, sigma, num_years * 12)\n",
    "    "
   ]
  },
  {
   "cell_type": "code",
   "execution_count": 101,
   "metadata": {
    "collapsed": false
   },
   "outputs": [],
   "source": [
    "num_years = 4\n",
    "simple_data = [\n",
    "    {\n",
    "        'state': state,\n",
    "        'population': get_pop_50_bad(\n",
    "            state_initial_pops[state], random.randint(0, 40), num_years\n",
    "        ),\n",
    "        'income': get_average_annual_income(40, 7, num_years)\n",
    "    }\n",
    "    for state in states\n",
    "]"
   ]
  },
  {
   "cell_type": "code",
   "execution_count": 103,
   "metadata": {
    "collapsed": false
   },
   "outputs": [
    {
     "data": {
      "text/plain": [
       "[{'income': array([ 32.78545991,  41.91604933,  42.78396023,  55.27076265]),\n",
       "  'population': array([          nan,   -1.        ,  108.23622786,    0.        ]),\n",
       "  'state': 'OR'},\n",
       " {'income': array([ 43.9100189 ,  35.89639087,  39.25933437,  42.71886171]),\n",
       "  'population': array([        nan,         nan,  52.4064368,         nan]),\n",
       "  'state': 'WA'},\n",
       " {'income': array([ 40.43348058,  39.34763766,  42.16349463,  37.96372247]),\n",
       "  'population': array([  45.3       ,  386.68539709,  379.6381369 ,   -1.        ]),\n",
       "  'state': 'CA'},\n",
       " {'income': array([ 32.32714876,  39.81227611,  25.87192322,  32.94098766]),\n",
       "  'population': array([ 83.70818491,  76.45193699,          nan,  87.88123539]),\n",
       "  'state': 'ID'}]"
      ]
     },
     "execution_count": 103,
     "metadata": {},
     "output_type": "execute_result"
    }
   ],
   "source": [
    "simple_data"
   ]
  },
  {
   "cell_type": "code",
   "execution_count": null,
   "metadata": {
    "collapsed": true
   },
   "outputs": [],
   "source": []
  }
 ],
 "metadata": {
  "kernelspec": {
   "display_name": "Python 2",
   "language": "python",
   "name": "python2"
  },
  "language_info": {
   "codemirror_mode": {
    "name": "ipython",
    "version": 2
   },
   "file_extension": ".py",
   "mimetype": "text/x-python",
   "name": "python",
   "nbconvert_exporter": "python",
   "pygments_lexer": "ipython2",
   "version": "2.7.10"
  }
 },
 "nbformat": 4,
 "nbformat_minor": 0
}
