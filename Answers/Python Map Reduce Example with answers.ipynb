{
 "cells": [
  {
   "cell_type": "markdown",
   "metadata": {},
   "source": [
    "This is a python 3 notebook that does use any exotic libraries."
   ]
  },
  {
   "cell_type": "code",
   "execution_count": 1,
   "metadata": {
    "collapsed": true
   },
   "outputs": [],
   "source": [
    "\"\"\"\n",
    "This function behaves the same as the built in map function (except that this materializes the iterator and the build in one doesn't)\n",
    "\"\"\"\n",
    "def standardMap(f, seq):\n",
    "    return [f(x) for x in seq]"
   ]
  },
  {
   "cell_type": "code",
   "execution_count": 2,
   "metadata": {
    "collapsed": true
   },
   "outputs": [],
   "source": [
    "from random import shuffle\n",
    "\"\"\"\n",
    "This function randomizes the order of the data passed in and then returns the list the results from applying the \n",
    "passed in function to each element of the shuffled list.\n",
    "\"\"\"\n",
    "def randomMap(f, seq):\n",
    "    retval = [x for x in seq]\n",
    "    shuffle(retval)\n",
    "    return [f(x) for x in retval]"
   ]
  },
  {
   "cell_type": "code",
   "execution_count": 3,
   "metadata": {
    "collapsed": true
   },
   "outputs": [],
   "source": [
    "\"\"\"\n",
    "Show results of the three different map functions at our disposal.\n",
    "\"\"\"\n",
    "def tryDifferentMaps(f, seq):\n",
    "    print(\"builtin: \" + str([x for x in map(f, seq)]))\n",
    "    print(\"standard: \" + str(standardMap(f, seq)))\n",
    "    print(\"random: \" + str(randomMap(f, seq)))"
   ]
  },
  {
   "cell_type": "code",
   "execution_count": 4,
   "metadata": {
    "collapsed": false
   },
   "outputs": [
    {
     "name": "stdout",
     "output_type": "stream",
     "text": [
      "builtin: [2, 3, 4, 5]\n",
      "standard: [2, 3, 4, 5]\n",
      "random: [3, 5, 4, 2]\n"
     ]
    }
   ],
   "source": [
    "f = lambda x: x + 1\n",
    "tryDifferentMaps(f, range(1, 5))"
   ]
  },
  {
   "cell_type": "code",
   "execution_count": 5,
   "metadata": {
    "collapsed": false
   },
   "outputs": [],
   "source": [
    "\"\"\"\n",
    "This function is equivalent to the built in reduce function\n",
    "\"\"\"\n",
    "def standardReduce(f, seq):\n",
    "    curval = seq[0]\n",
    "    for newval in seq[1:]:\n",
    "        curval = f(curval, newval)\n",
    "    return curval"
   ]
  },
  {
   "cell_type": "code",
   "execution_count": 6,
   "metadata": {
    "collapsed": true
   },
   "outputs": [],
   "source": [
    "\n",
    "\"\"\"\n",
    "This function is similar to the built in reduce function, but it shuffles the sequence before operating on it.\n",
    "This is comparable to the problem faced when working on multiple processes/computers in parallel.\n",
    "\"\"\"\n",
    "def randomReduce(f, seq):\n",
    "    rseq = [x for x in seq]\n",
    "    shuffle(rseq)\n",
    "    curval = rseq[0]\n",
    "    for newval in rseq[1:]:\n",
    "        curval = f(curval, newval)\n",
    "    return curval"
   ]
  },
  {
   "cell_type": "code",
   "execution_count": 7,
   "metadata": {
    "collapsed": false
   },
   "outputs": [],
   "source": [
    "from functools import reduce"
   ]
  },
  {
   "cell_type": "code",
   "execution_count": 8,
   "metadata": {
    "collapsed": false
   },
   "outputs": [],
   "source": [
    "\"\"\"\n",
    "Show results of the three different reduce functions at our disposal.\n",
    "\"\"\"\n",
    "def tryDifferentReductions(f, seq):\n",
    "    print(\"builtin: \" + str(reduce(f, seq)))\n",
    "    print(\"standard: \" + str(standardReduce(f, seq)))\n",
    "    print(\"random: \" + str(randomReduce(f, seq)))"
   ]
  },
  {
   "cell_type": "code",
   "execution_count": 9,
   "metadata": {
    "collapsed": false
   },
   "outputs": [
    {
     "name": "stdout",
     "output_type": "stream",
     "text": [
      "builtin: 120\n",
      "standard: 120\n",
      "random: 120\n"
     ]
    }
   ],
   "source": [
    "f = lambda x, y: x*y # a commutative function\n",
    "tryDifferentReductions(f, range(2,6))"
   ]
  },
  {
   "cell_type": "code",
   "execution_count": 10,
   "metadata": {
    "collapsed": false
   },
   "outputs": [
    {
     "name": "stdout",
     "output_type": "stream",
     "text": [
      "builtin: 1152921504606846976\n",
      "standard: 1152921504606846976\n",
      "random: 59604644775390625\n"
     ]
    }
   ],
   "source": [
    "f = lambda x, y: pow(x,y) # a non-commutative function\n",
    "tryDifferentReductions(f, range(2,6))"
   ]
  },
  {
   "cell_type": "code",
   "execution_count": 11,
   "metadata": {
    "collapsed": false
   },
   "outputs": [
    {
     "name": "stdout",
     "output_type": "stream",
     "text": [
      "builtin: this is a sentece\n",
      "standard: this is a sentece\n",
      "random: a this sentece is\n"
     ]
    }
   ],
   "source": [
    "f = lambda x, y: x+\" \"+y # another non-commutative function\n",
    "tryDifferentReductions(f, \"this is a sentece\".split())"
   ]
  },
  {
   "cell_type": "code",
   "execution_count": 12,
   "metadata": {
    "collapsed": false
   },
   "outputs": [],
   "source": [
    "\"\"\"\n",
    "The simplest version of map reduce that I could show.  This version does not account for the shuffle step, which would be\n",
    "necessary to do a hash join efficiently.\n",
    "\"\"\"\n",
    "def simpleMapReduce(mapFunc, reduceFunc, seq):\n",
    "    return randomReduce(reduceFunc, randomMap(mapFunc, seq))\n",
    "    "
   ]
  },
  {
   "cell_type": "code",
   "execution_count": 13,
   "metadata": {
    "collapsed": false
   },
   "outputs": [
    {
     "data": {
      "text/plain": [
       "45"
      ]
     },
     "execution_count": 13,
     "metadata": {},
     "output_type": "execute_result"
    }
   ],
   "source": [
    "mapFunc = lambda x:x\n",
    "reduceFunc = lambda x,y: x+y\n",
    "simpleMapReduce(mapFunc, reduceFunc, range(1,10))"
   ]
  },
  {
   "cell_type": "code",
   "execution_count": 14,
   "metadata": {
    "collapsed": false
   },
   "outputs": [],
   "source": [
    "\"\"\"\n",
    "This is similar to the simple map reduce algorithm above, but it breaks the data apart and does each subset on its own before\n",
    "recombining everything together at the end.\n",
    "\"\"\"\n",
    "def randomMapReduce(mapFunc, reduceFunc, seq):\n",
    "    workingList = [] #this variable will hold intermediate results after doing some, but not all reduction operations\n",
    "    \n",
    "    #break the input sequence up and treat each operation as if it's happening in parallel.\n",
    "    sizePerChunk = 4\n",
    "    def chunks():\n",
    "        for i in range(0, len(seq), sizePerChunk):\n",
    "            yield seq[i:i+sizePerChunk]\n",
    "    chunkedList = list(chunks())\n",
    "    for i in range(len(chunkedList)):\n",
    "        workingList.append(simpleMapReduce( mapFunc, reduceFunc, chunkedList[i]))\n",
    "    \n",
    "    #once the parallel operations have been done, do the last combination task.\n",
    "    return randomReduce(reduceFunc, workingList)"
   ]
  },
  {
   "cell_type": "code",
   "execution_count": 15,
   "metadata": {
    "collapsed": false
   },
   "outputs": [
    {
     "data": {
      "text/plain": [
       "45"
      ]
     },
     "execution_count": 15,
     "metadata": {},
     "output_type": "execute_result"
    }
   ],
   "source": [
    "mapFunc = lambda x:x\n",
    "reduceFunc = lambda x,y: x+y\n",
    "randomMapReduce(mapFunc, reduceFunc, range(1,10))"
   ]
  },
  {
   "cell_type": "code",
   "execution_count": 16,
   "metadata": {
    "collapsed": false
   },
   "outputs": [],
   "source": [
    "\"\"\"\n",
    "This function accepts two sorted lists and the comparison operator used to sort them and efficiently combines them into a \n",
    "single sorted list\n",
    "\"\"\"\n",
    "def mergeLists (left, right, comparator):\n",
    "    retval = []\n",
    "    leftPointer = 0\n",
    "    rightPointer = 0\n",
    "    while leftPointer+rightPointer < len(left)+len(right):\n",
    "        #print(\"leftPointer: %i, rightPointer: %i\"%(leftPointer, rightPointer))\n",
    "        if leftPointer > len(left)-1:\n",
    "            retval.append(right[rightPointer])\n",
    "            rightPointer += 1\n",
    "        elif rightPointer > len(right)-1:\n",
    "            retval.append(left[leftPointer])\n",
    "            leftPointer += 1\n",
    "        elif comparator(left[leftPointer], right[rightPointer]):\n",
    "            retval.append(left[leftPointer])\n",
    "            leftPointer += 1\n",
    "        else:\n",
    "            retval.append(right[rightPointer])\n",
    "            rightPointer += 1\n",
    "    return retval"
   ]
  },
  {
   "cell_type": "code",
   "execution_count": 17,
   "metadata": {
    "collapsed": false
   },
   "outputs": [
    {
     "data": {
      "text/plain": [
       "[1, 2, 3, 4, 5, 6, 7, 8, 9]"
      ]
     },
     "execution_count": 17,
     "metadata": {},
     "output_type": "execute_result"
    }
   ],
   "source": [
    "mapFunc = lambda x:[x]\n",
    "reduceFunc = lambda x,y: mergeLists(x, y, lambda x, y: x<y)\n",
    "simpleMapReduce(mapFunc, reduceFunc, range(1,10))"
   ]
  },
  {
   "cell_type": "code",
   "execution_count": 18,
   "metadata": {
    "collapsed": false
   },
   "outputs": [
    {
     "data": {
      "text/plain": [
       "[9, 8, 7, 6, 5, 4, 3, 2, 1]"
      ]
     },
     "execution_count": 18,
     "metadata": {},
     "output_type": "execute_result"
    }
   ],
   "source": [
    "mapFunc = lambda x:[x]\n",
    "reduceFunc = lambda x,y: mergeLists(x, y, lambda x, y: x>y)\n",
    "simpleMapReduce(mapFunc, reduceFunc, range(1,10))"
   ]
  },
  {
   "cell_type": "code",
   "execution_count": 19,
   "metadata": {
    "collapsed": false
   },
   "outputs": [
    {
     "data": {
      "text/plain": [
       "29"
      ]
     },
     "execution_count": 19,
     "metadata": {},
     "output_type": "execute_result"
    }
   ],
   "source": [
    "#9. Write map reduce to count the letters in the sentence 'I used join to split this sentence.'\n",
    "mapFunc = lambda x:len(x)\n",
    "reduceFunc = lambda x,y: x+y\n",
    "seq = 'I used join to split this sentence.'.split()\n",
    "simpleMapReduce(mapFunc, reduceFunc, seq)"
   ]
  },
  {
   "cell_type": "code",
   "execution_count": 20,
   "metadata": {
    "collapsed": false
   },
   "outputs": [
    {
     "data": {
      "text/plain": [
       "{1: 1, 2: 1, 4: 3, 5: 1, 9: 1}"
      ]
     },
     "execution_count": 20,
     "metadata": {},
     "output_type": "execute_result"
    }
   ],
   "source": [
    "#10. Write map reduce to get the count of words of each length in the above sentence.\n",
    "\n",
    "#this is a dictionary wrapper that is identical to dictionary except that, in the case of invalid references, this function\n",
    "#returns 0 instead of throwing an error.\n",
    "class default0Dict(dict):\n",
    "    def __missing__(self, key):\n",
    "        return 0\n",
    "    \n",
    "mapFunc = lambda x:default0Dict({len(x):1})\n",
    "reduceFunc = lambda x,y: default0Dict({key:x[key]+y[key] for key in #take the sum of the values in the two dictionaries for\n",
    "                                                                   #this key\n",
    "                                       set(x.keys()) | set(y.keys())} #take the union of the list of keys from both dicts\n",
    "                                                                    #to determine which keys to have in the new dict\n",
    "                                     )\n",
    "seq = 'I used join to split this sentence.'.split()\n",
    "randomMapReduce(mapFunc, reduceFunc, seq)"
   ]
  },
  {
   "cell_type": "code",
   "execution_count": null,
   "metadata": {
    "collapsed": true
   },
   "outputs": [],
   "source": []
  }
 ],
 "metadata": {
  "kernelspec": {
   "display_name": "Python 3",
   "language": "python",
   "name": "python3"
  },
  "language_info": {
   "codemirror_mode": {
    "name": "ipython",
    "version": 3
   },
   "file_extension": ".py",
   "mimetype": "text/x-python",
   "name": "python",
   "nbconvert_exporter": "python",
   "pygments_lexer": "ipython3",
   "version": "3.4.3"
  }
 },
 "nbformat": 4,
 "nbformat_minor": 0
}
